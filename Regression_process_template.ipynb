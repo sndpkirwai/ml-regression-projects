{
 "cells": [
  {
   "cell_type": "code",
   "execution_count": 1,
   "id": "8801e625",
   "metadata": {},
   "outputs": [],
   "source": [
    "import numpy as np\n",
    "import pandas as pd"
   ]
  },
  {
   "cell_type": "code",
   "execution_count": 2,
   "id": "ee59e7d7",
   "metadata": {},
   "outputs": [],
   "source": [
    "def read_data(train_path, test_path):\n",
    "    \"\"\"Read in train and test data for a kaggle competition.\n",
    "    Parameters\n",
    "    ----------\n",
    "    train_path : str\n",
    "        The path to the training data.\n",
    "    test_path : str\n",
    "        The path to the test data\n",
    "    Returns\n",
    "    -------\n",
    "    train_df, test_df : pandas DataFrames\n",
    "        The train and test datasets.\n",
    "    \"\"\"\n",
    "    train_df = pd.read_csv(train_path)\n",
    "    test_df = pd.read_csv(test_path)\n",
    "    return train_df, test_df"
   ]
  },
  {
   "cell_type": "code",
   "execution_count": 3,
   "id": "737feacc",
   "metadata": {},
   "outputs": [
    {
     "ename": "AttributeError",
     "evalue": "module 'pandas' has no attribute 'read_csv'",
     "output_type": "error",
     "traceback": [
      "\u001b[1;31m---------------------------------------------------------------------------\u001b[0m",
      "\u001b[1;31mAttributeError\u001b[0m                            Traceback (most recent call last)",
      "\u001b[1;32m<ipython-input-3-3e693fb28c7b>\u001b[0m in \u001b[0;36m<module>\u001b[1;34m\u001b[0m\n\u001b[1;32m----> 1\u001b[1;33m \u001b[0mtrain_df\u001b[0m\u001b[1;33m,\u001b[0m\u001b[0mtest_df\u001b[0m  \u001b[1;33m=\u001b[0m \u001b[0mread_data\u001b[0m\u001b[1;33m(\u001b[0m\u001b[1;34m'train_dataset.csv'\u001b[0m\u001b[1;33m,\u001b[0m\u001b[1;34m'x_test.csv'\u001b[0m\u001b[1;33m)\u001b[0m\u001b[1;33m\u001b[0m\u001b[1;33m\u001b[0m\u001b[0m\n\u001b[0m",
      "\u001b[1;32m<ipython-input-2-f58e0d2961a0>\u001b[0m in \u001b[0;36mread_data\u001b[1;34m(train_path, test_path)\u001b[0m\n\u001b[0;32m     12\u001b[0m         \u001b[0mThe\u001b[0m \u001b[0mtrain\u001b[0m \u001b[1;32mand\u001b[0m \u001b[0mtest\u001b[0m \u001b[0mdatasets\u001b[0m\u001b[1;33m.\u001b[0m\u001b[1;33m\u001b[0m\u001b[1;33m\u001b[0m\u001b[0m\n\u001b[0;32m     13\u001b[0m     \"\"\"\n\u001b[1;32m---> 14\u001b[1;33m     \u001b[0mtrain_df\u001b[0m \u001b[1;33m=\u001b[0m \u001b[0mpd\u001b[0m\u001b[1;33m.\u001b[0m\u001b[0mread_csv\u001b[0m\u001b[1;33m(\u001b[0m\u001b[0mtrain_path\u001b[0m\u001b[1;33m)\u001b[0m\u001b[1;33m\u001b[0m\u001b[1;33m\u001b[0m\u001b[0m\n\u001b[0m\u001b[0;32m     15\u001b[0m     \u001b[0mtest_df\u001b[0m \u001b[1;33m=\u001b[0m \u001b[0mpd\u001b[0m\u001b[1;33m.\u001b[0m\u001b[0mread_csv\u001b[0m\u001b[1;33m(\u001b[0m\u001b[0mtest_path\u001b[0m\u001b[1;33m)\u001b[0m\u001b[1;33m\u001b[0m\u001b[1;33m\u001b[0m\u001b[0m\n\u001b[0;32m     16\u001b[0m     \u001b[1;32mreturn\u001b[0m \u001b[0mtrain_df\u001b[0m\u001b[1;33m,\u001b[0m \u001b[0mtest_df\u001b[0m\u001b[1;33m\u001b[0m\u001b[1;33m\u001b[0m\u001b[0m\n",
      "\u001b[1;31mAttributeError\u001b[0m: module 'pandas' has no attribute 'read_csv'"
     ]
    }
   ],
   "source": [
    "train_df,test_df  = read_data('train_dataset.csv','x_test.csv')"
   ]
  },
  {
   "cell_type": "code",
   "execution_count": 4,
   "id": "23c9b2f9",
   "metadata": {},
   "outputs": [],
   "source": [
    "def get_duplicates(df, drop_cols=None):\n",
    "    \"\"\"Determine and return the duplicated values in a dataframe.\n",
    "    Parameters\n",
    "    ----------\n",
    "    df : pandas DataFrame\n",
    "        The dataframe to check\n",
    "    drop_cols : str or list of str, optional\n",
    "        The columns to drop before returning duplicates.\n",
    "    Returns\n",
    "    -------\n",
    "    pandas DataFrame\n",
    "        A dataframe containing the rows with duplicated values.\n",
    "    \"\"\"\n",
    "    if drop_cols is not None:\n",
    "        return df[df.drop(columns=drop_cols).duplicated()]\n",
    "    else:\n",
    "        return df[df.duplicated()]"
   ]
  },
  {
   "cell_type": "code",
   "execution_count": 5,
   "id": "b583dceb",
   "metadata": {},
   "outputs": [],
   "source": [
    "def remove_duplicates(df, drop_cols=None):\n",
    "    \"\"\"Removes the duplicated values in a dataframe.\n",
    "    Parameters\n",
    "    ----------\n",
    "    df : pandas DataFrame\n",
    "        The dataframe to check\n",
    "    drop_cols : str or list of str, optional\n",
    "        The columns to drop before removing duplicates.\n",
    "    Returns\n",
    "    -------\n",
    "    pandas DataFrame\n",
    "        A dataframe without duplicated.\n",
    "    \"\"\"\n",
    "    df_clean = df.copy()\n",
    "\n",
    "    if drop_cols is not None:\n",
    "        df_clean = df_clean[~df_clean.drop(columns=drop_cols).duplicated()]\n",
    "    else:\n",
    "        df_clean = df_clean[~df_clean.duplicated()]\n",
    "\n",
    "    return df_clean.reset_index(drop=True)"
   ]
  },
  {
   "cell_type": "code",
   "execution_count": 6,
   "id": "03648a08",
   "metadata": {},
   "outputs": [],
   "source": [
    "def count_missing(df):\n",
    "    \"\"\"Counts the missing data in a dataframe.\n",
    "    Parameters\n",
    "    ----------\n",
    "    df : pandas DataFrame\n",
    "        The dataframe to count the missing data in.\n",
    "    Returns\n",
    "    -------\n",
    "    pandas DataFrame\n",
    "        A summary of missing data (counts and %)\n",
    "    \"\"\"\n",
    "    missing_df = pd.DataFrame(\n",
    "        df.isna().sum().sort_values(ascending=False), columns=[\"count\"]\n",
    "    )\n",
    "    missing_df[\"percent\"] = missing_df[\"count\"] / df.shape[0]\n",
    "    return missing_df.query(\"count != 0\")"
   ]
  },
  {
   "cell_type": "code",
   "execution_count": null,
   "id": "e7c6c5ed",
   "metadata": {},
   "outputs": [],
   "source": []
  }
 ],
 "metadata": {
  "kernelspec": {
   "display_name": "Python 3",
   "language": "python",
   "name": "python3"
  },
  "language_info": {
   "codemirror_mode": {
    "name": "ipython",
    "version": 3
   },
   "file_extension": ".py",
   "mimetype": "text/x-python",
   "name": "python",
   "nbconvert_exporter": "python",
   "pygments_lexer": "ipython3",
   "version": "3.8.8"
  }
 },
 "nbformat": 4,
 "nbformat_minor": 5
}
